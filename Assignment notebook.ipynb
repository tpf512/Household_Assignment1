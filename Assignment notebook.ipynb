{
 "cells": [
  {
   "cell_type": "markdown",
   "metadata": {},
   "source": [
    "# Life-Cycle Labor Supply with Children"
   ]
  },
  {
   "cell_type": "markdown",
   "metadata": {},
   "source": [
    "## Setup\n",
    "\n",
    "hjejjheuh"
   ]
  },
  {
   "cell_type": "code",
   "execution_count": 1,
   "metadata": {},
   "outputs": [],
   "source": [
    "%load_ext autoreload\n",
    "%autoreload 2\n",
    "\n",
    "import numpy as np\n",
    "import numba as nb\n",
    "import os, pandas as pd, pickle, math\n",
    "\n",
    "import matplotlib.pyplot as plt\n",
    "from mpl_toolkits import mplot3d\n",
    "\n",
    "import os \n",
    "slides = False\n",
    "out_folder = '/Users/bruger/Desktop/Household behavior/HouseholdBehaviorCourse-1/05/Figures'"
   ]
  },
  {
   "cell_type": "code",
   "execution_count": 2,
   "metadata": {},
   "outputs": [
    {
     "name": "stderr",
     "output_type": "stream",
     "text": [
      "<frozen importlib._bootstrap>:228: RuntimeWarning: scipy._lib.messagestream.MessageStream size changed, may indicate binary incompatibility. Expected 56 from C header, got 64 from PyObject\n"
     ]
    }
   ],
   "source": [
    "# load local model file and initialize model class\n",
    "from DynLaborFertModel import DynLaborFertModelClass\n",
    "model = DynLaborFertModelClass(par={'T':10,'r':0.02,'rho':1/(1.02),'alpha':0.3}) # set a few number of periods.\n",
    "\n",
    "par = model.par\n",
    "sol = model.sol\n",
    "sim = model.sim"
   ]
  },
  {
   "cell_type": "code",
   "execution_count": 3,
   "metadata": {},
   "outputs": [],
   "source": [
    "hours = 'h'\n",
    "child = 'n'\n",
    "assets = 'a'\n",
    "capital = 'k'\n",
    "spouse = 's'"
   ]
  },
  {
   "cell_type": "markdown",
   "metadata": {},
   "source": [
    "# Question 1\n",
    "In the folllowing peace of code, I solve and simulate the model for a different number of beta_1 values. I calculate mean optimal hours in time relevant to brith and save these for each of the beta_1 values. Afterwards, I plot the mean values. \n",
    "\n"
   ]
  },
  {
   "cell_type": "code",
   "execution_count": null,
   "metadata": {},
   "outputs": [],
   "source": [
    "beta_1_list = [0.01, 0.02, 0.03, 0.04, 0.05]\n",
    "m_hours_b = {}\n",
    "\n",
    "for beta_1 in beta_1_list:\n",
    "    model.par.beta_1 = beta_1\n",
    "    model.solve()\n",
    "    model.simulate()\n",
    "\n",
    "    birth = np.zeros(sim.n.shape,dtype=np.int_)\n",
    "    birth[:,1:] = (sim.n[:,1:] - sim.n[:,:-1]) > 0 #G enerates an 1D-array array where 1-values indicate that a birth occurred between two periods \n",
    "    \n",
    "    periods = np.tile([t for t in range(par.simT)],(par.simN,1))\n",
    "    time_of_birth = np.max(periods * birth, axis=1)\n",
    "    \n",
    "    I = time_of_birth>0\n",
    "    time_of_birth[~I] = -1000 # never has a child\n",
    "    time_of_birth = np.transpose(np.tile(time_of_birth , (par.simT,1)))\n",
    "    \n",
    "    time_since_birth = periods - time_of_birth\n",
    "\n",
    "    min_time = -8\n",
    "    max_time = 8\n",
    "    event_grid = np.arange(min_time,max_time+1)\n",
    "\n",
    "    event_hours = np.nan + np.zeros(event_grid.size)\n",
    "    for t,time in enumerate(event_grid):\n",
    "        event_hours[t] = np.mean(sim.h[time_since_birth==time])\n",
    "\n",
    "    # relative to period before birth\n",
    "    event_hours_rel = event_hours - event_hours[event_grid==-1]\n",
    "\n",
    "    m_hours_b[beta_1] = event_hours\n",
    "    m_hours_b[(beta_1, 'rel')] = event_hours_rel\n",
    "    # h_list.append({'beta_1': beta_1, 'event_hours_rel': event_hours_rel})\n"
   ]
  },
  {
   "cell_type": "code",
   "execution_count": null,
   "metadata": {},
   "outputs": [],
   "source": [
    "fig, ax = plt.subplots()\n",
    "for beta_1 in beta_1_list:\n",
    "    ax.scatter(event_grid,m_hours_b[(beta_1)],label=f\"{beta_1}\")\n",
    "ax.set(xlabel='Time since birth',ylabel=f'Hours worked ',xticks=event_grid)\n",
    "ax.legend();\n",
    "\n",
    "fig, ax = plt.subplots()\n",
    "for beta_1 in beta_1_list:\n",
    "    ax.scatter(event_grid,m_hours_b[(beta_1),'rel'],label=f\"{beta_1}\")\n",
    "ax.set(xlabel='Time since birth',ylabel=f'Hours worked ',xticks=event_grid)\n",
    "ax.legend();"
   ]
  },
  {
   "cell_type": "markdown",
   "metadata": {},
   "source": [
    "# Question 2\n"
   ]
  },
  {
   "cell_type": "markdown",
   "metadata": {},
   "source": [
    "1) Calculates Marshallian elasticity (ela_M). I do the following steps:\n",
    "\n",
    "a) I run a loop in which I solve the the model for tau=0.1(baseline) and tau=0.11 (new).\n",
    "   I save average hours worked over the time period under both regimes.\n",
    "   This allows me to compare hours worked under the initial regime where the income tax is 10 pct. with the new regime where the income tax i 11 pct.\n",
    "\n",
    "b) I calculate the Marshallian elasticity by subtracting mean hours under old regime from mean hours under new regime and dividing by hours under old regime. This provides the pct. change in average hours for each time period following a 1 pct. increase in the marginal tax. \n",
    "\n",
    "c) I plot the Marshallian elasticity over the time period. \n",
    "\n"
   ]
  },
  {
   "cell_type": "code",
   "execution_count": null,
   "metadata": {},
   "outputs": [],
   "source": [
    "# Solve model for tau = 0.1 (baseline) and tau=0.11 \n",
    "tau_list = [0.1,0.11]\n",
    "m_hours = {}\n",
    "\n",
    "for tau in tau_list:\n",
    "    model.par.tau = tau\n",
    "    par.beta_1 = 0.03\n",
    "    model.solve()\n",
    "    model.simulate()\n",
    "    m_hours[tau] = np.mean(getattr(sim,hours),axis=0).tolist()"
   ]
  },
  {
   "cell_type": "code",
   "execution_count": null,
   "metadata": {},
   "outputs": [],
   "source": [
    "ela_M = (np.subtract(m_hours[0.11], m_hours[0.1]) / m_hours[0.1]) * 100"
   ]
  },
  {
   "cell_type": "code",
   "execution_count": null,
   "metadata": {},
   "outputs": [],
   "source": [
    "# 1) Plot hours worked for tau=0.10 and tau=0.11 \n",
    "# 2) Plot Marshall elasticity\n",
    "\n",
    "periods = np.arange(0, par.T)\n",
    "\n",
    "fig, ax = plt.subplots()\n",
    "for tau in tau_list:\n",
    "    ax.scatter(periods,m_hours[tau],label=f\"Marginal tax={tau}\")\n",
    "ax.set(xlabel='Period',ylabel=f'Hours worked ',xticks=periods)\n",
    "ax.legend();\n",
    "fig.tight_layout();\n",
    "if slides:\n",
    "    fig.savefig(f\"{out_folder}\\\\hours_tau_slides.pdf\",facecolor='#FAFAFA',edgecolor='k')\n",
    "else:\n",
    "    fig.savefig(f\"{out_folder}\\\\hours_tau.pdf\",edgecolor='k')\n",
    "\n",
    "fig, ax = plt.subplots()\n",
    "ax.scatter(periods,ela_M)\n",
    "ax.set(xlabel='Period',ylabel=f'Marshall elasticity ',xticks=periods);\n",
    "fig.tight_layout();\n",
    "if slides:\n",
    "    fig.savefig(f\"{out_folder}\\\\Marshall_tau_slides.pdf\",facecolor='#FAFAFA',edgecolor='k')\n",
    "else:\n",
    "    fig.savefig(f\"{out_folder}\\\\Marshall_tau.pdf\",edgecolor='k')"
   ]
  },
  {
   "cell_type": "markdown",
   "metadata": {},
   "source": [
    "2) Determine Marshallian elasticity for individuals with and without children. \n",
    "\n",
    "a) I run a loop in which I solve the model under the two tax regimes, conditional on whether there is a child present. \n",
    "First, I back out hours for individuals with and without children in each period. \n",
    "Second, I calculate average hours for individuals with and without children in each period. \n",
    "\n",
    "b) I take period 0 as bo individuals have children in period 0. \n",
    "\n",
    "c) I calcilate the elasticities conditional on having children. As before I by subtract mean hours under old regime from mean hours under new regime and dividing by hours under old regime. This provides the pct. change in average hours for each time period following a 1 pct. increase in the marginal tax. \n",
    "\n",
    "d) I plot hours worked over the time period for persons with children and without children. \n",
    "I consider only period 1-9 as there are no individuals who have children in period 0. \n",
    "\n",
    "e) I plot the Marshallian elasticity for persons with and without children. \n",
    "I consider only period 1-9 as there are no individuals who have children in period 0. "
   ]
  },
  {
   "cell_type": "code",
   "execution_count": 4,
   "metadata": {},
   "outputs": [],
   "source": [
    "tau_list = [0.1,0.11]\n",
    "\n",
    "m_hours_c0 = [[] for _ in range(len(tau_list))]  # create a list of empty lists to store mean hours for c=0 for each period t\n",
    "m_hours_c1 = [[] for _ in range(len(tau_list))]  # create a list of empty lists to store mean hours for c=1 for each period t\n",
    "\n",
    "for i, tau in enumerate(tau_list):\n",
    "    model.par.tau = tau\n",
    "    model.par.beta_1 = 0.03\n",
    "    model.solve()\n",
    "    model.simulate()\n",
    "\n",
    "    for t in range(par.simT):\n",
    "        hours_c0_t = []  # create a temporary list to store hours for c=0 for period t\n",
    "        hours_c1_t = []  # create a temporary list to store hours for c=1 for  period t\n",
    "        for j in range(par.simN):\n",
    "            if getattr(sim, child)[j, t] == 0:\n",
    "                hours_c0_t.append(getattr(sim, hours)[j, t])\n",
    "            elif getattr(sim, child)[j, t] == 1:\n",
    "                hours_c1_t.append(getattr(sim, hours)[j, t])\n",
    "        if hours_c0_t:  # check if the temporary list for c=0 is not empty\n",
    "            m_hours_c0[i].append(np.mean(hours_c0_t))  # calculate mean hours for c=0 in current period t and append to list\n",
    "        else:\n",
    "            m_hours_c0[i].append(None)  # if no persons with c=0 are present in current period t, append None to list\n",
    "        if hours_c1_t:  # check if the temporary list for c=1 is not empty\n",
    "            m_hours_c1[i].append(np.mean(hours_c1_t))  # calculate mean hours for c=1 in current period and append to list\n",
    "        else:\n",
    "            m_hours_c1[i].append(None)  # if no persons with c=1 are present in current period, append None to list"
   ]
  },
  {
   "cell_type": "code",
   "execution_count": null,
   "metadata": {},
   "outputs": [],
   "source": [
    "m_hours_c0 = [i[1:] for i in m_hours_c0] # take out the first obs in each dimension of 2D-list\n",
    "m_hours_c1 = [i[1:] for i in m_hours_c1] # take out the first obs. \n",
    "\n",
    "ela_M_c0= (np.subtract(m_hours_c0[1], m_hours_c0[0]) / m_hours_c0[0]) * 100\n",
    "ela_M_c1= (np.subtract(m_hours_c1[1], m_hours_c1[0]) / m_hours_c1[0]) * 100"
   ]
  },
  {
   "cell_type": "code",
   "execution_count": null,
   "metadata": {},
   "outputs": [],
   "source": [
    "# 1) Plot hours worked for individuals without and with children \n",
    "# 2) Plot Marshall elasticity for individuals without and with children\n",
    "\n",
    "periods = np.arange(1, 10)\n",
    "\n",
    "fig, ax = plt.subplots()\n",
    "ax.scatter(periods, m_hours_c0[0], label='No children')\n",
    "ax.scatter(periods, m_hours_c1[0], label='Children')\n",
    "ax.set(xlabel='Period', ylabel='Hours worked', xticks=periods)\n",
    "ax.legend()\n",
    "fig.tight_layout();\n",
    "if slides:\n",
    "    fig.savefig(f\"{out_folder}\\\\hours_c_slides.pdf\",facecolor='#FAFAFA',edgecolor='k')\n",
    "else:\n",
    "    fig.savefig(f\"{out_folder}\\\\hours_c.pdf\",edgecolor='k')\n",
    "\n",
    "fig, ax = plt.subplots()\n",
    "ax.scatter(periods, ela_M_c0, label='No children')\n",
    "ax.scatter(periods, ela_M_c1, label='Children')\n",
    "ax.set(xlabel='Period', ylabel='Marhsall Elasticity', xticks=periods)\n",
    "ax.legend()\n",
    "fig.tight_layout();\n",
    "if slides:\n",
    "    fig.savefig(f\"{out_folder}\\\\Marshall_c_slides.pdf\",facecolor='#FAFAFA',edgecolor='k')\n",
    "else:\n",
    "    fig.savefig(f\"{out_folder}\\\\Marshall_c.pdf\",edgecolor='k')\n",
    "\n"
   ]
  },
  {
   "cell_type": "markdown",
   "metadata": {},
   "source": [
    "# Question 3"
   ]
  },
  {
   "cell_type": "code",
   "execution_count": null,
   "metadata": {},
   "outputs": [],
   "source": [
    "s_list = [0., 1.]\n",
    "tau_list = [0.1, 0.11]\n",
    "m_hours_s_tau = {}\n",
    "\n",
    "for s in s_list:\n",
    "    m_hours_tau = {}\n",
    "    model.par.spouse = s\n",
    "    model.par.theta = 0.\n",
    "    model.par.beta_1 = 0.03\n",
    "\n",
    "    for tau in tau_list:\n",
    "        model.par.tau = tau\n",
    "        model.solve()\n",
    "        model.simulate()\n",
    "        m_hours_tau[tau] = np.mean(getattr(sim, hours), axis=0).tolist()\n",
    "    \n",
    "    m_hours_s_tau[s] = m_hours_tau\n",
    "\n",
    "m_hours_s0 = m_hours_s_tau[0] # Get hours for individuals without a spouse\n",
    "m_hours_s1 = m_hours_s_tau[1] # Get hours for individuals with a spouse\n",
    "\n",
    "# Calculate marshall elasticity or individuals without and with a spouse\n",
    "ela_M_s0= (np.subtract(m_hours_s0[0.11], m_hours_s0[0.1]) / m_hours_s0[0.1]) * 100\n",
    "ela_M_s1= (np.subtract(m_hours_s1[0.11], m_hours_s1[0.1]) / m_hours_s1[0.1]) * 100"
   ]
  },
  {
   "cell_type": "code",
   "execution_count": null,
   "metadata": {},
   "outputs": [],
   "source": [
    "# 1) Plot hours worked for individuals without and with spouse \n",
    "# 2) Plot Marshall elasticity for individuals without and with spouse\n",
    "\n",
    "periods = np.arange(0, 10)\n",
    "\n",
    "fig, ax = plt.subplots()\n",
    "ax.scatter(periods, m_hours_s0[0.1], label='No spouse')\n",
    "ax.scatter(periods, m_hours_s1[0.1], label='Spouse')\n",
    "ax.set(xlabel='Period', ylabel='Hours worked', xticks=periods)\n",
    "ax.legend()\n",
    "fig.tight_layout();\n",
    "if slides:\n",
    "    fig.savefig(f\"{out_folder}\\\\Hours_s_slides.pdf\",facecolor='#FAFAFA',edgecolor='k')\n",
    "else:\n",
    "    fig.savefig(f\"{out_folder}\\\\Hours_s.pdf\",edgecolor='k')\n",
    "\n",
    "fig, ax = plt.subplots()\n",
    "ax.scatter(periods, ela_M_s0, label='No spouse')\n",
    "ax.scatter(periods, ela_M_s1, label='Spouse')\n",
    "ax.set(xlabel='Period', ylabel='Marhsall Elasticity', xticks=periods)\n",
    "ax.legend()\n",
    "fig.tight_layout();\n",
    "if slides:\n",
    "    fig.savefig(f\"{out_folder}\\\\Marshall_s_slides.pdf\",facecolor='#FAFAFA',edgecolor='k')\n",
    "else:\n",
    "    fig.savefig(f\"{out_folder}\\\\Marshall_s.pdf\",edgecolor='k')"
   ]
  },
  {
   "cell_type": "markdown",
   "metadata": {},
   "source": [
    "# Question 4"
   ]
  },
  {
   "cell_type": "code",
   "execution_count": null,
   "metadata": {},
   "outputs": [],
   "source": [
    "tau_list = [0.1,0.11]\n",
    "\n",
    "m_hours_c0th = [[] for _ in range(len(tau_list))]  # create a list of empty lists to store mean hours for c=0 for each period t\n",
    "m_hours_c1th = [[] for _ in range(len(tau_list))]  # create a list of empty lists to store mean hours for c=1 for each period t\n",
    "\n",
    "for i, tau in enumerate(tau_list):\n",
    "    model.par.tau = tau\n",
    "    model.par.theta = -1.\n",
    "    model.par.spouse = 0.\n",
    "    model.par.beta_1 = 0.03\n",
    "    model.solve()\n",
    "    model.simulate()\n",
    "\n",
    "    for t in range(par.simT):\n",
    "        hours_c0th_t = []  # create a temporary list to store hours for c=0 for period t\n",
    "        hours_c1th_t = []  # create a temporary list to store hours for c=1 for  period t\n",
    "        for j in range(par.simN):\n",
    "            if getattr(sim, child)[j, t] == 0:\n",
    "                hours_c0th_t.append(getattr(sim, hours)[j, t])\n",
    "            elif getattr(sim, child)[j, t] == 1:\n",
    "                hours_c1th_t.append(getattr(sim, hours)[j, t])\n",
    "        if hours_c0th_t:  # check if the temporary list for c=0 is not empty\n",
    "            m_hours_c0th[i].append(np.mean(hours_c0th_t))  # calculate mean hours for c=0 in current period t and append to list\n",
    "        else:\n",
    "            m_hours_c0th[i].append(None)  # if no persons with c=0 are present in current period t, append None to list\n",
    "        if hours_c1th_t:  # check if the temporary list for c=1 is not empty\n",
    "            m_hours_c1th[i].append(np.mean(hours_c1th_t))  # calculate mean hours for c=1 in current period and append to list\n",
    "        else:\n",
    "            m_hours_c1th[i].append(None)  # if no persons with c=1 are present in current period, append None to list"
   ]
  },
  {
   "cell_type": "code",
   "execution_count": null,
   "metadata": {},
   "outputs": [],
   "source": [
    "m_hours_c0th = [i[1:] for i in m_hours_c0th] # take out the first obs in each dimension of 2D-list\n",
    "m_hours_c1th = [i[1:] for i in m_hours_c1th] # take out the first obs. \n",
    "\n",
    "ela_M_c0th= (np.subtract(m_hours_c0th[1], m_hours_c0th[0]) / m_hours_c0th[0]) * 100\n",
    "ela_M_c1th= (np.subtract(m_hours_c1th[1], m_hours_c1th[0]) / m_hours_c1th[0]) * 100"
   ]
  },
  {
   "cell_type": "code",
   "execution_count": null,
   "metadata": {},
   "outputs": [],
   "source": [
    "print(m_hours_c0th)\n",
    "print(m_hours_c0)\n",
    "# should be the same: mean hours for people without children in new code (with child costs) is the same as mean hours for people without children\n",
    "# in old code (without child costs)"
   ]
  },
  {
   "cell_type": "code",
   "execution_count": null,
   "metadata": {},
   "outputs": [],
   "source": [
    "print(m_hours_c1th)\n",
    "print(m_hours_c1)\n",
    "# should be different: mean hours for people with children in new code (with child costs) should be different \n",
    "# that mean hours for people with children in old code (without child costs)"
   ]
  },
  {
   "cell_type": "code",
   "execution_count": null,
   "metadata": {},
   "outputs": [],
   "source": [
    "print(m_hours)\n",
    "print(m_hours_s0)\n",
    "#should be the same: mean hours for people without spouse in new code (with pouse) is the same as mean hours for people in olc code "
   ]
  },
  {
   "cell_type": "code",
   "execution_count": null,
   "metadata": {},
   "outputs": [],
   "source": [
    "periods = np.arange(1, 10)\n",
    "\n",
    "fig, ax = plt.subplots()\n",
    "ax.scatter(periods, m_hours_c1[0], label='Children (no costs)')\n",
    "ax.scatter(periods, m_hours_c1th[0], label='Children (costs)')\n",
    "ax.set(xlabel='Period', ylabel='Hours worked', xticks=periods)\n",
    "ax.legend()\n",
    "fig.tight_layout();\n",
    "if slides:\n",
    "    fig.savefig(f\"{out_folder}\\\\Hours_cth_slides.pdf\",facecolor='#FAFAFA',edgecolor='k')\n",
    "else:\n",
    "    fig.savefig(f\"{out_folder}\\\\Hours_cth.pdf\",edgecolor='k')\n",
    "\n",
    "fig, ax = plt.subplots()\n",
    "ax.scatter(periods, ela_M_c1, label='Children (no costs)')\n",
    "ax.scatter(periods, ela_M_c1th, label='Children (costs)')\n",
    "ax.set(xlabel='Period', ylabel='Marhsall Elasticity', xticks=periods)\n",
    "ax.legend()\n",
    "fig.tight_layout();\n",
    "if slides:\n",
    "    fig.savefig(f\"{out_folder}\\\\Marshall_cth_slides.pdf\",facecolor='#FAFAFA',edgecolor='k')\n",
    "else:\n",
    "    fig.savefig(f\"{out_folder}\\\\Marshall_cth.pdf\",edgecolor='k')"
   ]
  },
  {
   "cell_type": "markdown",
   "metadata": {},
   "source": [
    "# Question 6"
   ]
  },
  {
   "cell_type": "markdown",
   "metadata": {},
   "source": [
    "Note that in order to run this part of the code, there is a need to change the py-file.\n",
    "Specifically, one should comment in the green parts for \"married\" in def simulate. (line 280-284 and 292-296)\n",
    "moreover, the birth part needs to be commented out. (line 286-290)"
   ]
  },
  {
   "cell_type": "code",
   "execution_count": 8,
   "metadata": {},
   "outputs": [],
   "source": [
    "model.par.p_spouse = 1.\n",
    "model.par.spouse = 1.\n",
    "model.par.theta = 0.\n",
    "model.par.beta_1 = 0.03\n",
    "model.solve()\n",
    "model.simulate()"
   ]
  },
  {
   "cell_type": "code",
   "execution_count": 9,
   "metadata": {},
   "outputs": [
    {
     "data": {
      "image/png": "[encoded data removed]",
      "text/plain": [
       "<Figure size 432x288 with 1 Axes>"
      ]
     },
     "metadata": {
      "needs_background": "light"
     },
     "output_type": "display_data"
    },
    {
     "data": {
      "image/png": "[encoded data removed]",
      "text/plain": [
       "<Figure size 432x288 with 1 Axes>"
      ]
     },
     "metadata": {
      "needs_background": "light"
     },
     "output_type": "display_data"
    },
    {
     "data": {
      "image/png": "[encoded data removed]",
      "text/plain": [
       "<Figure size 432x288 with 1 Axes>"
      ]
     },
     "metadata": {
      "needs_background": "light"
     },
     "output_type": "display_data"
    },
    {
     "data": {
      "image/png": "[encoded data removed]",
      "text/plain": [
       "<Figure size 432x288 with 1 Axes>"
      ]
     },
     "metadata": {
      "needs_background": "light"
     },
     "output_type": "display_data"
    },
    {
     "data": {
      "image/png": "[encoded data removed]",
      "text/plain": [
       "<Figure size 432x288 with 1 Axes>"
      ]
     },
     "metadata": {
      "needs_background": "light"
     },
     "output_type": "display_data"
    }
   ],
   "source": [
    "for var in ('c','a','h','n','s'):\n",
    "    fig, ax = plt.subplots()\n",
    "    ax.scatter(range(par.simT),np.mean(getattr(sim,var),axis=0),label='Simulated')\n",
    "    ax.set(xlabel='period, t',ylabel=f'Avg. {var}',xticks=range(par.simT));"
   ]
  },
  {
   "cell_type": "code",
   "execution_count": null,
   "metadata": {},
   "outputs": [],
   "source": [
    "prob_s_list = [1., 0.4]\n",
    "tau_list = [0.1, 0.11]\n",
    "m_hours_spouse_tau = {}\n",
    "\n",
    "for prob_s in prob_s_list:\n",
    "    m_hours_tau = {}\n",
    "    model.par.p_spouse = prob_s\n",
    "    model.par.spouse = 1.\n",
    "    model.par.theta = 1.\n",
    "    model.par.beta_1 = 0.03\n",
    "    \n",
    "    for tau in tau_list:\n",
    "        par.tau = tau\n",
    "        model.solve()\n",
    "        model.simulate()\n",
    "        m_hours_tau[tau] = np.mean(getattr(sim, hours), axis=0).tolist()\n",
    "    \n",
    "    m_hours_spouse_tau[prob_s] = m_hours_tau"
   ]
  },
  {
   "cell_type": "code",
   "execution_count": null,
   "metadata": {},
   "outputs": [],
   "source": [
    "m_hours_spouse_s1 = m_hours_spouse_tau[1.0] \n",
    "m_hours_spouse_s04 = m_hours_spouse_tau[0.4] \n",
    "\n",
    "# Calculate marshall elasticity or individuals without and with a spouse\n",
    "ela_M_s1= (np.subtract(m_hours_spouse_s1[0.11], m_hours_spouse_s1[0.1]) / m_hours_spouse_s1[0.1]) * 100\n",
    "ela_M_s04= (np.subtract(m_hours_spouse_s04[0.11], m_hours_spouse_s04[0.1]) / m_hours_spouse_s04[0.1]) * 100"
   ]
  },
  {
   "cell_type": "code",
   "execution_count": null,
   "metadata": {},
   "outputs": [
    {
     "data": {
      "image/png": "[encoded data removed]",
      "text/plain": [
       "<Figure size 432x288 with 1 Axes>"
      ]
     },
     "metadata": {
      "needs_background": "light"
     },
     "output_type": "display_data"
    },
    {
     "data": {
      "image/png": "[encoded data removed]",
      "text/plain": [
       "<Figure size 432x288 with 1 Axes>"
      ]
     },
     "metadata": {
      "needs_background": "light"
     },
     "output_type": "display_data"
    }
   ],
   "source": [
    "# 1) Plot hours worked for tau=0.10 and tau=0.11 \n",
    "# 2) Plot Marshall elasticity\n",
    "\n",
    "periods = np.arange(0, par.T)\n",
    "\n",
    "fig, ax = plt.subplots()\n",
    "ax.scatter(periods, m_hours_spouse_s1[0.1], label='Spouse prob = 1')\n",
    "ax.scatter(periods, m_hours_spouse_s04[0.1], label='Spouse prob = 0.4')\n",
    "ax.set(xlabel='Period', ylabel='Hours worked', xticks=periods)\n",
    "ax.legend()\n",
    "fig.tight_layout();\n",
    "if slides:\n",
    "    fig.savefig(f\"{out_folder}\\\\Hours_s_p_slides.pdf\",facecolor='#FAFAFA',edgecolor='k')\n",
    "else:\n",
    "    fig.savefig(f\"{out_folder}\\\\Hours_s_p.pdf\",edgecolor='k')\n",
    "\n",
    "fig, ax = plt.subplots()\n",
    "ax.scatter(periods, ela_M_s1, label='Spouse prob = 1')\n",
    "ax.scatter(periods, ela_M_s04, label='Spouse prob = 0.4')\n",
    "ax.set(xlabel='Period', ylabel='Marhsall Elasticity', xticks=periods)\n",
    "ax.legend()\n",
    "fig.tight_layout();\n",
    "if slides:\n",
    "    fig.savefig(f\"{out_folder}\\\\Marshall_s_p_slides.pdf\",facecolor='#FAFAFA',edgecolor='k')\n",
    "else:\n",
    "    fig.savefig(f\"{out_folder}\\\\Marshall_s_p.pdf\",edgecolor='k')"
   ]
  },
  {
   "cell_type": "code",
   "execution_count": null,
   "metadata": {},
   "outputs": [],
   "source": []
  }
 ],
 "metadata": {
  "kernelspec": {
   "display_name": "Python 3.9.12 ('base')",
   "language": "python",
   "name": "python3"
  },
  "language_info": {
   "codemirror_mode": {
    "name": "ipython",
    "version": 3
   },
   "file_extension": ".py",
   "mimetype": "text/x-python",
   "name": "python",
   "nbconvert_exporter": "python",
   "pygments_lexer": "ipython3",
   "version": "3.9.12"
  },
  "toc-autonumbering": true,
  "vscode": {
   "interpreter": {
    "hash": "1091f1b9584b16126d959e1e6baecccd273f82381826b825c44bca03b6114737"
   }
  }
 },
 "nbformat": 4,
 "nbformat_minor": 4
}
